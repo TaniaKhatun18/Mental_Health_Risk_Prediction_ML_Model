{
 "cells": [
  {
   "cell_type": "code",
   "execution_count": 1,
   "id": "672024d6",
   "metadata": {},
   "outputs": [
    {
     "name": "stdout",
     "output_type": "stream",
     "text": [
      "Classification Report:\n",
      "               precision    recall  f1-score   support\n",
      "\n",
      "           0       1.00      0.97      0.98       475\n",
      "           1       0.97      0.96      0.97       359\n",
      "           2       0.97      0.99      0.98      1166\n",
      "\n",
      "    accuracy                           0.98      2000\n",
      "   macro avg       0.98      0.97      0.98      2000\n",
      "weighted avg       0.98      0.98      0.98      2000\n",
      "\n",
      "Confusion Matrix:\n",
      " [[ 460    0   15]\n",
      " [   0  344   15]\n",
      " [   0    9 1157]]\n",
      "Predicted Risk: Medium (58.0%)\n"
     ]
    }
   ],
   "source": [
    "import pandas as pd\n",
    "import numpy as np\n",
    "from sklearn.model_selection import train_test_split\n",
    "from sklearn.preprocessing import LabelEncoder, StandardScaler\n",
    "from sklearn.ensemble import RandomForestClassifier\n",
    "from sklearn.metrics import classification_report, confusion_matrix\n",
    "import joblib\n",
    "\n",
    "# 1. Load dataset\n",
    "df = pd.read_csv('mental_health_dataset.csv')  \n",
    "\n",
    "# 2. Handle categorical variables\n",
    "categorical_cols = ['gender', 'employment_status', 'work_environment',\n",
    "                    'mental_health_history', 'seeks_treatment']\n",
    "\n",
    "# Encode categorical variables using LabelEncoder\n",
    "label_encoders = {}\n",
    "for col in categorical_cols:\n",
    "    le = LabelEncoder()\n",
    "    df[col] = le.fit_transform(df[col])\n",
    "    label_encoders[col] = le  # Save encoders for future use\n",
    "\n",
    "# Encode the target column\n",
    "target_encoder = LabelEncoder()\n",
    "df['mental_health_risk'] = target_encoder.fit_transform(df['mental_health_risk'])\n",
    "\n",
    "# 3. Split features and target\n",
    "X = df.drop('mental_health_risk', axis=1)\n",
    "y = df['mental_health_risk']\n",
    "\n",
    "# 4. Scale numerical features\n",
    "numerical_cols = ['age', 'stress_level', 'sleep_hours',\n",
    "                  'physical_activity_days', 'depression_score',\n",
    "                  'anxiety_score', 'social_support_score', 'productivity_score']\n",
    "\n",
    "scaler = StandardScaler()\n",
    "X[numerical_cols] = scaler.fit_transform(X[numerical_cols])\n",
    "\n",
    "# 5. Train-test split\n",
    "X_train, X_test, y_train, y_test = train_test_split(X, y, test_size=0.2, random_state=42)\n",
    "\n",
    "# 6. Model training\n",
    "model = RandomForestClassifier(n_estimators=150, random_state=42)\n",
    "model.fit(X_train, y_train)\n",
    "\n",
    "# 7. Model evaluation\n",
    "y_pred = model.predict(X_test)\n",
    "print(\"Classification Report:\\n\", classification_report(y_test, y_pred))\n",
    "print(\"Confusion Matrix:\\n\", confusion_matrix(y_test, y_pred))\n",
    "\n",
    "# 8. Save model and encoders\n",
    "joblib.dump(model, 'mental_health_risk_model.pkl')\n",
    "joblib.dump(scaler, 'scaler.pkl')\n",
    "joblib.dump(label_encoders, 'encoders.pkl')\n",
    "joblib.dump(target_encoder, 'target_encoder.pkl')\n",
    "X_encoded = pd.get_dummies(X)\n",
    "joblib.dump(X_encoded.columns.tolist(), \"model_features.pkl\")\n",
    "\n",
    "# 9. Predict for a new input\n",
    "def predict_mental_health(input_data: dict):\n",
    "    input_df = pd.DataFrame([input_data])\n",
    "\n",
    "    # Encode categorical features\n",
    "    for col in categorical_cols:\n",
    "        input_df[col] = label_encoders[col].transform([input_df[col][0]])\n",
    "\n",
    "    # Scale numeric features\n",
    "    input_df[numerical_cols] = scaler.transform(input_df[numerical_cols])\n",
    "\n",
    "    # Predict\n",
    "    prediction = model.predict(input_df)[0]\n",
    "    prediction_label = target_encoder.inverse_transform([prediction])[0]\n",
    "    prediction_proba = model.predict_proba(input_df).max() * 100  # Confidence %\n",
    "\n",
    "    return prediction_label, round(prediction_proba, 2)\n",
    "\n",
    "# Example usage\n",
    "sample_input = {\n",
    "    'age': 19,\n",
    "    'gender': 'Female',\n",
    "    'employment_status': 'Unemployed',\n",
    "    'work_environment': 'On-site',\n",
    "    'mental_health_history': 'No',\n",
    "    'seeks_treatment': 'No',\n",
    "    'stress_level': 1,\n",
    "    'sleep_hours': 8.0,\n",
    "    'physical_activity_days': 5,\n",
    "    'depression_score': 10,\n",
    "    'anxiety_score': 1,\n",
    "    'social_support_score': 8,\n",
    "    'productivity_score': 9.0\n",
    "}\n",
    "\n",
    "label, confidence = predict_mental_health(sample_input)\n",
    "print(f\"Predicted Risk: {label} ({confidence}%)\")\n"
   ]
  },
  {
   "cell_type": "code",
   "execution_count": 2,
   "id": "ba8fa6e0",
   "metadata": {},
   "outputs": [
    {
     "data": {
      "text/plain": [
       "['label_encoder.pkl']"
      ]
     },
     "execution_count": 2,
     "metadata": {},
     "output_type": "execute_result"
    }
   ],
   "source": [
    "from sklearn.preprocessing import LabelEncoder\n",
    "import joblib\n",
    "\n",
    "# Encode labels\n",
    "label_encoder = LabelEncoder()\n",
    "y_encoded = label_encoder.fit_transform(y)\n",
    "\n",
    "# Save label_encoder object (not its classes)\n",
    "joblib.dump(label_encoder, 'label_encoder.pkl')\n"
   ]
  },
  {
   "cell_type": "code",
   "execution_count": null,
   "id": "a4d94371",
   "metadata": {},
   "outputs": [],
   "source": []
  }
 ],
 "metadata": {
  "kernelspec": {
   "display_name": "base",
   "language": "python",
   "name": "python3"
  },
  "language_info": {
   "codemirror_mode": {
    "name": "ipython",
    "version": 3
   },
   "file_extension": ".py",
   "mimetype": "text/x-python",
   "name": "python",
   "nbconvert_exporter": "python",
   "pygments_lexer": "ipython3",
   "version": "3.12.7"
  }
 },
 "nbformat": 4,
 "nbformat_minor": 5
}
